{
  "nbformat": 4,
  "nbformat_minor": 0,
  "metadata": {
    "colab": {
      "provenance": []
    },
    "kernelspec": {
      "name": "python3",
      "display_name": "Python 3"
    },
    "language_info": {
      "name": "python"
    }
  },
  "cells": [
    {
      "cell_type": "code",
      "source": [
        "import numpy as np\n",
        "\n",
        "# Step 1: Initialize the Perceptron\n",
        "input_dim = 2  # Number of input features\n",
        "W = np.random.rand(input_dim) * 0.01  # Initialize weights\n",
        "b = 0.0  # Initialize bias"
      ],
      "metadata": {
        "id": "-8-mrsG6LpxS"
      },
      "execution_count": null,
      "outputs": []
    },
    {
      "cell_type": "code",
      "source": [
        "# Step 2: Define Activation Function\n",
        "def sigmoid_func(x):\n",
        "    return 1 / (1 + np.exp(-x))\n",
        "\n",
        "def der(x):\n",
        "    s = sigmoid_func(x)\n",
        "    return s * (1 - s)"
      ],
      "metadata": {
        "id": "_tDHQ7meLy7x"
      },
      "execution_count": null,
      "outputs": []
    },
    {
      "cell_type": "code",
      "source": [
        "# Step 3: Define Training Data\n",
        "X = np.array([[0, 0], [0, 1], [1, 0], [1, 1]])  # Example: AND gate\n",
        "y = np.array([0, 0, 0, 1])  # Corresponding labels"
      ],
      "metadata": {
        "id": "-mK6GP4bNHQJ"
      },
      "execution_count": null,
      "outputs": []
    },
    {
      "cell_type": "code",
      "source": [
        "# Step 4: Define Learning Rate and Number of Epochs\n",
        "alpha = 0.1  # Learning rate\n",
        "epochs = 1000  # Number of training epochs"
      ],
      "metadata": {
        "id": "aYEGyLNjOONw"
      },
      "execution_count": null,
      "outputs": []
    },
    {
      "cell_type": "code",
      "source": [
        "# Step 5: Training the Perceptron\n",
        "for epoch in range(epochs):\n",
        "    for i in range(len(X)):\n",
        "        z = np.dot(X[i], W) + b  # Weighted sum\n",
        "        y_pred = sigmoid_func(z)  # Predicted output\n",
        "        error = y[i] - y_pred  # Error calculation\n",
        "\n",
        "        # Update weights and bias\n",
        "        W += alpha * error * X[i]\n",
        "        b += alpha * error"
      ],
      "metadata": {
        "id": "GFD1Hn0HORl4"
      },
      "execution_count": null,
      "outputs": []
    },
    {
      "cell_type": "code",
      "source": [
        "# Step 6: Prediction\n",
        "def predict(new_data):\n",
        "    z = np.dot(new_data, W) + b\n",
        "    return sigmoid_func(z) >= 0.5  # Return binary prediction"
      ],
      "metadata": {
        "id": "6N79btbfOVX3"
      },
      "execution_count": null,
      "outputs": []
    },
    {
      "cell_type": "code",
      "source": [
        "# Step 7: Evaluate the Model\n",
        "predictions = predict(X)\n",
        "accuracy = np.mean(predictions == y)\n",
        "print(\"Accuracy:\", accuracy)"
      ],
      "metadata": {
        "id": "cO38HXSHOXkQ",
        "outputId": "85bd3949-af66-46fc-ffc7-ee07c6003f82",
        "colab": {
          "base_uri": "https://localhost:8080/"
        }
      },
      "execution_count": null,
      "outputs": [
        {
          "output_type": "stream",
          "name": "stdout",
          "text": [
            "Accuracy: 1.0\n"
          ]
        }
      ]
    }
  ]
}