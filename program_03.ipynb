{
  "nbformat": 4,
  "nbformat_minor": 0,
  "metadata": {
    "colab": {
      "provenance": []
    },
    "kernelspec": {
      "name": "python3",
      "display_name": "Python 3"
    },
    "language_info": {
      "name": "python"
    }
  },
  "cells": [
    {
      "cell_type": "code",
      "execution_count": null,
      "metadata": {
        "id": "SAnVyCgGG6k5",
        "colab": {
          "base_uri": "https://localhost:8080/"
        },
        "outputId": "c9d3578c-abcc-413f-c267-c26209db1038"
      },
      "outputs": [
        {
          "output_type": "stream",
          "name": "stdout",
          "text": [
            "Mounted at /content/drive\n"
          ]
        }
      ],
      "source": [
        "\n",
        "from google.colab import drive\n",
        "drive.mount('/content/drive')"
      ]
    },
    {
      "cell_type": "code",
      "source": [
        "import pandas as pd\n",
        "import numpy as np\n",
        "from numpy import log,dot,exp,shape\n",
        "from sklearn.metrics import confusion_matrix"
      ],
      "metadata": {
        "id": "tfNQunotIskh"
      },
      "execution_count": null,
      "outputs": []
    },
    {
      "cell_type": "code",
      "source": [
        "data = pd.read_csv('/suv_cars.csv')\n",
        "print(data.head())"
      ],
      "metadata": {
        "colab": {
          "base_uri": "https://localhost:8080/"
        },
        "id": "dR_Tg5ZrIy2F",
        "outputId": "46031b1a-4922-43d2-9f76-d50ecfe914c3"
      },
      "execution_count": null,
      "outputs": [
        {
          "output_type": "stream",
          "name": "stdout",
          "text": [
            "    User ID  Gender  Age  EstimatedSalary  Purchased\n",
            "0  15624510    Male   19            19000          0\n",
            "1  15810944    Male   35            20000          0\n",
            "2  15668575  Female   26            43000          0\n",
            "3  15603246  Female   27            57000          0\n",
            "4  15804002    Male   19            76000          0\n"
          ]
        }
      ]
    },
    {
      "cell_type": "code",
      "source": [
        "x = data.iloc[:, [2, 3]].values\n",
        "y = data.iloc[:, 4].values"
      ],
      "metadata": {
        "id": "8AvLKw6UJirC"
      },
      "execution_count": null,
      "outputs": []
    },
    {
      "cell_type": "code",
      "source": [
        "from sklearn.model_selection import train_test_split\n",
        "x_train, x_test, y_train, y_test=train_test_split(x,y,test_size=0.10, random_state=0)\n",
        "from sklearn.preprocessing import StandardScaler\n",
        "sc=StandardScaler()\n",
        "x_train=sc.fit_transform(x_train)\n",
        "x_test=sc.transform(x_test)\n",
        "print (x_train[0:10,:])"
      ],
      "metadata": {
        "colab": {
          "base_uri": "https://localhost:8080/"
        },
        "id": "yLmGZayqJodV",
        "outputId": "83a1a031-7f70-4959-d004-8780bf7c71eb"
      },
      "execution_count": null,
      "outputs": [
        {
          "output_type": "stream",
          "name": "stdout",
          "text": [
            "[[-1.05714987  0.53420426]\n",
            " [ 0.2798728  -0.51764734]\n",
            " [-1.05714987  0.41733186]\n",
            " [-0.29313691 -1.45262654]\n",
            " [ 0.47087604  1.23543867]\n",
            " [-1.05714987 -0.34233874]\n",
            " [-0.10213368  0.30045946]\n",
            " [ 1.33039061  0.59264046]\n",
            " [-1.15265148 -1.16044554]\n",
            " [ 1.04388575  0.47576806]]\n"
          ]
        }
      ]
    },
    {
      "cell_type": "code",
      "source": [
        "from sklearn.linear_model import LogisticRegression\n",
        "classifier=LogisticRegression(random_state=0)\n",
        "classifier.fit(x_train,y_train)\n",
        "LogisticRegression (random_state=0)\n",
        "y_pred = classifier.predict(x_test)\n",
        "print(y_pred)"
      ],
      "metadata": {
        "colab": {
          "base_uri": "https://localhost:8080/"
        },
        "id": "nUFJiQ-oJr61",
        "outputId": "a7468845-a3f6-471c-aa69-92084ee0591c"
      },
      "execution_count": null,
      "outputs": [
        {
          "output_type": "stream",
          "name": "stdout",
          "text": [
            "[0 0 0 0 0 0 0 1 0 1 0 0 0 0 0 0 0 0 1 0 0 1 0 1 0 1 0 0 0 0 0 0 1 0 0 0 0\n",
            " 0 0 1]\n"
          ]
        }
      ]
    },
    {
      "cell_type": "code",
      "source": [
        "from sklearn.metrics import confusion_matrix\n",
        "cm = confusion_matrix(y_test, y_pred)\n",
        "print (\"Confusion Matrix : \\n\", cm)\n"
      ],
      "metadata": {
        "colab": {
          "base_uri": "https://localhost:8080/"
        },
        "id": "_JNs9NQ7J1TO",
        "outputId": "ec0fa6be-649a-42c7-bb51-f36f0c963285"
      },
      "execution_count": null,
      "outputs": [
        {
          "output_type": "stream",
          "name": "stdout",
          "text": [
            "Confusion Matrix : \n",
            " [[31  1]\n",
            " [ 1  7]]\n"
          ]
        }
      ]
    },
    {
      "cell_type": "code",
      "source": [
        "from sklearn.metrics import accuracy_score\n",
        "print(\"Accuracy :\", accuracy_score(y_test, y_pred))"
      ],
      "metadata": {
        "colab": {
          "base_uri": "https://localhost:8080/"
        },
        "id": "WTinps_NJ-WG",
        "outputId": "a31ea6f4-9708-493b-e250-4cf417904e0d"
      },
      "execution_count": null,
      "outputs": [
        {
          "output_type": "stream",
          "name": "stdout",
          "text": [
            "Accuracy : 0.95\n"
          ]
        }
      ]
    },
    {
      "cell_type": "code",
      "source": [
        "from sklearn.model_selection import train_test_split\n",
        "x_train, x_test, y_train, y_test=train_test_split(x,y,test_size=0.10, random_state=0)"
      ],
      "metadata": {
        "id": "5pRhPye4KIQE"
      },
      "execution_count": null,
      "outputs": []
    },
    {
      "cell_type": "code",
      "source": [
        "def Std(input_data):\n",
        "  mean0 = np.mean(input_data[:, 0])\n",
        "  sd0 = np.std(input_data[:, 0])\n",
        "  mean1 = np.mean(input_data[:, 1])\n",
        "  sd1 = np.std(input_data[:, 1])\n",
        "  return lambda x:((x[0]-mean0)/sd0, (x[1]-mean1)/sd1)\n"
      ],
      "metadata": {
        "id": "W39RBpRxKJn8"
      },
      "execution_count": null,
      "outputs": []
    },
    {
      "cell_type": "code",
      "source": [
        "my_std = Std(x)\n",
        "my_std(x_train[0])"
      ],
      "metadata": {
        "colab": {
          "base_uri": "https://localhost:8080/"
        },
        "id": "0bxHE8GzKpeH",
        "outputId": "ad8f4694-e01a-44e4-e2bf-0517aada99d7"
      },
      "execution_count": null,
      "outputs": [
        {
          "output_type": "execute_result",
          "data": {
            "text/plain": [
              "(-1.017692393473028, 0.5361288690822568)"
            ]
          },
          "metadata": {},
          "execution_count": 17
        }
      ]
    },
    {
      "cell_type": "code",
      "source": [
        "def standardize(X_tr):\n",
        "  for i in range(shape(X_tr)[1]):\n",
        "    X_tr[:,i] = (X_tr[:,i] - np.mean(X_tr[:,i]))/np.std(X_tr[:,i])"
      ],
      "metadata": {
        "id": "ilVOVBn-KyDE"
      },
      "execution_count": null,
      "outputs": []
    },
    {
      "cell_type": "code",
      "source": [
        "def initialize(self,X):\n",
        "  weights = np.zeros((shape(X)[1]+1,1))\n",
        "  X = np.c_[np.ones((shape(X)[0],1)),X]\n",
        "  return weights,X"
      ],
      "metadata": {
        "id": "fJE9wsNtLbXM"
      },
      "execution_count": null,
      "outputs": []
    },
    {
      "cell_type": "code",
      "source": [
        "def sigmoid(z):\n",
        "    return 1 / (1 + np.exp(-z))\n",
        "\n",
        "def cost(theta, X, y):\n",
        "    m = len(y)\n",
        "    z = np.dot(X, theta)\n",
        "\n",
        "\n",
        "    cost0 = y.T.dot(np.log(sigmoid(z)))\n",
        "    cost1 = (1 - y).T.dot(np.log(1 - sigmoid(z)))\n",
        "\n",
        "    cost = -(cost0 + cost1) / m\n",
        "    return cost"
      ],
      "metadata": {
        "id": "0SlB_ojFLkx8"
      },
      "execution_count": null,
      "outputs": []
    },
    {
      "cell_type": "code",
      "source": [
        "def fit(self,X,y,alpha=0.001,iterations=400):\n",
        "  weights,X = self.initialize(X)\n",
        "  cost_list = np.zeros(iterations,)\n",
        "  for i in range(iterations):\n",
        "    weights = weights - alpha*dot(X.T,self.sigmoid(dot(X,weights))-np.reshape(y,(len(y),1)))\n",
        "    cost_list[i] = cost(weights)\n",
        "    self.weights = weights\n",
        "  return cost_list"
      ],
      "metadata": {
        "id": "2q48aHtCLpI8"
      },
      "execution_count": null,
      "outputs": []
    },
    {
      "cell_type": "code",
      "source": [
        "def predict(self,X):\n",
        "  z = dot(self.initialize(X)[1],self.weights)\n",
        "def predict(self,X):\n",
        "  z = dot(self.initialize(X)[1],self.weights)\n",
        "  lis = []\n",
        "  for i in self.sigmoid(z):\n",
        "    if i>0.5:\n",
        "      lis.append(1)\n",
        "    else:\n",
        "      lis.append(0)\n",
        "\n",
        "  return lis\n"
      ],
      "metadata": {
        "id": "hFga-nRLL7ml"
      },
      "execution_count": null,
      "outputs": []
    },
    {
      "cell_type": "code",
      "source": [
        "def F1_score(y, y_hat):\n",
        "    tp = 0\n",
        "    fp = 0\n",
        "    fn = 0\n",
        "    tn = 0\n",
        "\n",
        "    for i in range(len(y)):\n",
        "        if y[i] == 1 and y_hat[i] == 1:\n",
        "            tp += 1\n",
        "        elif y[i] == 0 and y_hat[i] == 1:\n",
        "            fp += 1\n",
        "        elif y[i] == 1 and y_hat[i] == 0:\n",
        "            fn += 1\n",
        "        elif y[i] == 0 and y_hat[i] == 0:\n",
        "            tn += 1\n",
        "    if (tp + fp) == 0:  #\n",
        "        precision = 0\n",
        "    else:\n",
        "        precision = tp / (tp + fp)\n",
        "    if (tp + fn) == 0:\n",
        "        recall = 0\n",
        "    else:\n",
        "        recall = tp / (tp + fn)\n",
        "\n",
        "\n",
        "    if precision + recall == 0:\n",
        "        f1_score = 0\n",
        "    else:\n",
        "        f1_score = 2 * precision * recall / (precision + recall)\n",
        "\n",
        "    return f1_score"
      ],
      "metadata": {
        "id": "w6qOdPYpNAXT"
      },
      "execution_count": null,
      "outputs": []
    },
    {
      "cell_type": "code",
      "source": [
        "\n",
        "model = obj1.fit(x_train, y_train)\n",
        "\n",
        "\n",
        "y_pred = model.predict(x_test)\n",
        "y_trainn = model.predict(x_train)\n",
        "\n",
        "\n",
        "f1_score_tr = F1_score(y_train, y_trainn)\n",
        "f1_score_te = F1_score(y_test, y_pred)\n",
        "\n",
        "\n",
        "print(f\"F1 score for training set: {f1_score_tr}\")\n",
        "print(f\"F1 score for test set: {f1_score_te}\")\n",
        "\n",
        "conf_mat = confusion_matrix(y_test, y_pred)\n",
        "accuracy = accuracy_score(y_test, y_pred)\n",
        "print(f\"Accuracy is: {accuracy}\")"
      ],
      "metadata": {
        "colab": {
          "base_uri": "https://localhost:8080/"
        },
        "id": "zPC5goNLMUuD",
        "outputId": "d72f17d8-c5ca-48ae-8027-2725930b84d8"
      },
      "execution_count": null,
      "outputs": [
        {
          "output_type": "stream",
          "name": "stdout",
          "text": [
            "F1 score for training set: 0.7649402390438247\n",
            "F1 score for test set: 0.875\n",
            "Accuracy is: 0.95\n"
          ]
        }
      ]
    }
  ]
}